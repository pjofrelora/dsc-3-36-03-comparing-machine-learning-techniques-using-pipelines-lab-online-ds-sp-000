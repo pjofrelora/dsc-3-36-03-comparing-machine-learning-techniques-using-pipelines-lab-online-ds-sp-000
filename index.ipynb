{
 "cells": [
  {
   "cell_type": "markdown",
   "metadata": {},
   "source": [
    "# Comparing Machine Learning Techniques Using Pipelines - Lab"
   ]
  },
  {
   "cell_type": "markdown",
   "metadata": {},
   "source": [
    "## Introduction"
   ]
  },
  {
   "cell_type": "markdown",
   "metadata": {},
   "source": [
    "In this lab, you'lll use a Dataset created by Otto group, which was also used in a [Kaggle competition](https://www.kaggle.com/c/otto-group-product-classification-challenge/data).\n",
    "\n",
    "The description of the data set is as follows:\n",
    "\n",
    "The Otto Group is one of the world’s biggest e-commerce companies, with subsidiaries in more than 20 countries, including Crate & Barrel (USA), Otto.de (Germany) and 3 Suisses (France). They are selling millions of products worldwide every day, with several thousand products being added to our product line.\n",
    "\n",
    "A consistent analysis of the performance of our products is crucial. However, due to their global infrastructure, many identical products get classified differently. Therefore, the quality of our product analysis depends heavily on the ability to accurately cluster similar products. The better the classification, the more insights Otto Group can generate about their product range.\n",
    "\n",
    "In this lab, you'll use a data set containing:\n",
    "- A column `id`, which is an anonymous id unique to a product\n",
    "- 93 columns `feat_1`, `feat_2`, ..., `feat_93`, which are the various features of a product\n",
    "- a column `target` - the class of a product\n"
   ]
  },
  {
   "cell_type": "markdown",
   "metadata": {},
   "source": [
    "## Objectives\n",
    "\n",
    "You will be able to:\n",
    "- Compare different classification techniques\n",
    "- Construct pipelines in scikit-learn\n",
    "- Use pipelines in combination with GridSearchCV"
   ]
  },
  {
   "cell_type": "markdown",
   "metadata": {},
   "source": [
    "## The Data Science Workflow"
   ]
  },
  {
   "cell_type": "markdown",
   "metadata": {},
   "source": [
    "You will be following the data science workflow:\n",
    "\n",
    "1. Initial data inspection, exploratory data analysis, and cleaning\n",
    "2. Feature engineering and selection\n",
    "3. create a baseline model\n",
    "4. create a machine learning pipeline and compare results with the baseline model\n",
    "5. Interpret the model and draw conclusions"
   ]
  },
  {
   "cell_type": "markdown",
   "metadata": {},
   "source": [
    "##  Initial data inspection, exploratory data analysis, and cleaning"
   ]
  },
  {
   "cell_type": "markdown",
   "metadata": {},
   "source": [
    "The data is stored in \"otto_group.csv\".\n",
    "\n",
    "Things to do here:\n",
    "- Check for NAs\n",
    "- Check the distributions\n",
    "- Check how many inputs there are\n",
    "- ..."
   ]
  },
  {
   "cell_type": "code",
   "execution_count": 2,
   "metadata": {},
   "outputs": [],
   "source": [
    "# Your code here\n",
    "import pandas as pd\n",
    "import numpy as np\n",
    "import matplotlib.pyplot as plt\n",
    "import seaborn as sns\n",
    "from ipywidgets import interact"
   ]
  },
  {
   "cell_type": "code",
   "execution_count": 3,
   "metadata": {},
   "outputs": [
    {
     "data": {
      "text/html": [
       "<div>\n",
       "<style scoped>\n",
       "    .dataframe tbody tr th:only-of-type {\n",
       "        vertical-align: middle;\n",
       "    }\n",
       "\n",
       "    .dataframe tbody tr th {\n",
       "        vertical-align: top;\n",
       "    }\n",
       "\n",
       "    .dataframe thead th {\n",
       "        text-align: right;\n",
       "    }\n",
       "</style>\n",
       "<table border=\"1\" class=\"dataframe\">\n",
       "  <thead>\n",
       "    <tr style=\"text-align: right;\">\n",
       "      <th></th>\n",
       "      <th>id</th>\n",
       "      <th>feat_1</th>\n",
       "      <th>feat_2</th>\n",
       "      <th>feat_3</th>\n",
       "      <th>feat_4</th>\n",
       "      <th>feat_5</th>\n",
       "      <th>feat_6</th>\n",
       "      <th>feat_7</th>\n",
       "      <th>feat_8</th>\n",
       "      <th>feat_9</th>\n",
       "      <th>...</th>\n",
       "      <th>feat_85</th>\n",
       "      <th>feat_86</th>\n",
       "      <th>feat_87</th>\n",
       "      <th>feat_88</th>\n",
       "      <th>feat_89</th>\n",
       "      <th>feat_90</th>\n",
       "      <th>feat_91</th>\n",
       "      <th>feat_92</th>\n",
       "      <th>feat_93</th>\n",
       "      <th>target</th>\n",
       "    </tr>\n",
       "  </thead>\n",
       "  <tbody>\n",
       "    <tr>\n",
       "      <th>0</th>\n",
       "      <td>1</td>\n",
       "      <td>1</td>\n",
       "      <td>0</td>\n",
       "      <td>0</td>\n",
       "      <td>0</td>\n",
       "      <td>0</td>\n",
       "      <td>0</td>\n",
       "      <td>0</td>\n",
       "      <td>0</td>\n",
       "      <td>0</td>\n",
       "      <td>...</td>\n",
       "      <td>1</td>\n",
       "      <td>0</td>\n",
       "      <td>0</td>\n",
       "      <td>0</td>\n",
       "      <td>0</td>\n",
       "      <td>0</td>\n",
       "      <td>0</td>\n",
       "      <td>0</td>\n",
       "      <td>0</td>\n",
       "      <td>Class_1</td>\n",
       "    </tr>\n",
       "    <tr>\n",
       "      <th>1</th>\n",
       "      <td>2</td>\n",
       "      <td>0</td>\n",
       "      <td>0</td>\n",
       "      <td>0</td>\n",
       "      <td>0</td>\n",
       "      <td>0</td>\n",
       "      <td>0</td>\n",
       "      <td>0</td>\n",
       "      <td>1</td>\n",
       "      <td>0</td>\n",
       "      <td>...</td>\n",
       "      <td>0</td>\n",
       "      <td>0</td>\n",
       "      <td>0</td>\n",
       "      <td>0</td>\n",
       "      <td>0</td>\n",
       "      <td>0</td>\n",
       "      <td>0</td>\n",
       "      <td>0</td>\n",
       "      <td>0</td>\n",
       "      <td>Class_1</td>\n",
       "    </tr>\n",
       "    <tr>\n",
       "      <th>2</th>\n",
       "      <td>3</td>\n",
       "      <td>0</td>\n",
       "      <td>0</td>\n",
       "      <td>0</td>\n",
       "      <td>0</td>\n",
       "      <td>0</td>\n",
       "      <td>0</td>\n",
       "      <td>0</td>\n",
       "      <td>1</td>\n",
       "      <td>0</td>\n",
       "      <td>...</td>\n",
       "      <td>0</td>\n",
       "      <td>0</td>\n",
       "      <td>0</td>\n",
       "      <td>0</td>\n",
       "      <td>0</td>\n",
       "      <td>0</td>\n",
       "      <td>0</td>\n",
       "      <td>0</td>\n",
       "      <td>0</td>\n",
       "      <td>Class_1</td>\n",
       "    </tr>\n",
       "    <tr>\n",
       "      <th>3</th>\n",
       "      <td>4</td>\n",
       "      <td>1</td>\n",
       "      <td>0</td>\n",
       "      <td>0</td>\n",
       "      <td>1</td>\n",
       "      <td>6</td>\n",
       "      <td>1</td>\n",
       "      <td>5</td>\n",
       "      <td>0</td>\n",
       "      <td>0</td>\n",
       "      <td>...</td>\n",
       "      <td>0</td>\n",
       "      <td>1</td>\n",
       "      <td>2</td>\n",
       "      <td>0</td>\n",
       "      <td>0</td>\n",
       "      <td>0</td>\n",
       "      <td>0</td>\n",
       "      <td>0</td>\n",
       "      <td>0</td>\n",
       "      <td>Class_1</td>\n",
       "    </tr>\n",
       "    <tr>\n",
       "      <th>4</th>\n",
       "      <td>5</td>\n",
       "      <td>0</td>\n",
       "      <td>0</td>\n",
       "      <td>0</td>\n",
       "      <td>0</td>\n",
       "      <td>0</td>\n",
       "      <td>0</td>\n",
       "      <td>0</td>\n",
       "      <td>0</td>\n",
       "      <td>0</td>\n",
       "      <td>...</td>\n",
       "      <td>1</td>\n",
       "      <td>0</td>\n",
       "      <td>0</td>\n",
       "      <td>0</td>\n",
       "      <td>0</td>\n",
       "      <td>1</td>\n",
       "      <td>0</td>\n",
       "      <td>0</td>\n",
       "      <td>0</td>\n",
       "      <td>Class_1</td>\n",
       "    </tr>\n",
       "  </tbody>\n",
       "</table>\n",
       "<p>5 rows × 95 columns</p>\n",
       "</div>"
      ],
      "text/plain": [
       "   id  feat_1  feat_2  feat_3  feat_4  feat_5  feat_6  feat_7  feat_8  feat_9  \\\n",
       "0   1       1       0       0       0       0       0       0       0       0   \n",
       "1   2       0       0       0       0       0       0       0       1       0   \n",
       "2   3       0       0       0       0       0       0       0       1       0   \n",
       "3   4       1       0       0       1       6       1       5       0       0   \n",
       "4   5       0       0       0       0       0       0       0       0       0   \n",
       "\n",
       "   ...  feat_85  feat_86  feat_87  feat_88  feat_89  feat_90  feat_91  \\\n",
       "0  ...        1        0        0        0        0        0        0   \n",
       "1  ...        0        0        0        0        0        0        0   \n",
       "2  ...        0        0        0        0        0        0        0   \n",
       "3  ...        0        1        2        0        0        0        0   \n",
       "4  ...        1        0        0        0        0        1        0   \n",
       "\n",
       "   feat_92  feat_93   target  \n",
       "0        0        0  Class_1  \n",
       "1        0        0  Class_1  \n",
       "2        0        0  Class_1  \n",
       "3        0        0  Class_1  \n",
       "4        0        0  Class_1  \n",
       "\n",
       "[5 rows x 95 columns]"
      ]
     },
     "execution_count": 3,
     "metadata": {},
     "output_type": "execute_result"
    }
   ],
   "source": [
    "# Your code here\n",
    "df_raw = pd.read_csv('otto_group.csv')\n",
    "df_raw.head()"
   ]
  },
  {
   "cell_type": "code",
   "execution_count": 5,
   "metadata": {},
   "outputs": [
    {
     "data": {
      "text/plain": [
       "0"
      ]
     },
     "execution_count": 5,
     "metadata": {},
     "output_type": "execute_result"
    }
   ],
   "source": [
    "# Your code here\n",
    "df_raw.isna().sum().sum()"
   ]
  },
  {
   "cell_type": "code",
   "execution_count": 6,
   "metadata": {},
   "outputs": [
    {
     "name": "stdout",
     "output_type": "stream",
     "text": [
      "<class 'pandas.core.frame.DataFrame'>\n",
      "RangeIndex: 61878 entries, 0 to 61877\n",
      "Data columns (total 95 columns):\n",
      "id         61878 non-null int64\n",
      "feat_1     61878 non-null int64\n",
      "feat_2     61878 non-null int64\n",
      "feat_3     61878 non-null int64\n",
      "feat_4     61878 non-null int64\n",
      "feat_5     61878 non-null int64\n",
      "feat_6     61878 non-null int64\n",
      "feat_7     61878 non-null int64\n",
      "feat_8     61878 non-null int64\n",
      "feat_9     61878 non-null int64\n",
      "feat_10    61878 non-null int64\n",
      "feat_11    61878 non-null int64\n",
      "feat_12    61878 non-null int64\n",
      "feat_13    61878 non-null int64\n",
      "feat_14    61878 non-null int64\n",
      "feat_15    61878 non-null int64\n",
      "feat_16    61878 non-null int64\n",
      "feat_17    61878 non-null int64\n",
      "feat_18    61878 non-null int64\n",
      "feat_19    61878 non-null int64\n",
      "feat_20    61878 non-null int64\n",
      "feat_21    61878 non-null int64\n",
      "feat_22    61878 non-null int64\n",
      "feat_23    61878 non-null int64\n",
      "feat_24    61878 non-null int64\n",
      "feat_25    61878 non-null int64\n",
      "feat_26    61878 non-null int64\n",
      "feat_27    61878 non-null int64\n",
      "feat_28    61878 non-null int64\n",
      "feat_29    61878 non-null int64\n",
      "feat_30    61878 non-null int64\n",
      "feat_31    61878 non-null int64\n",
      "feat_32    61878 non-null int64\n",
      "feat_33    61878 non-null int64\n",
      "feat_34    61878 non-null int64\n",
      "feat_35    61878 non-null int64\n",
      "feat_36    61878 non-null int64\n",
      "feat_37    61878 non-null int64\n",
      "feat_38    61878 non-null int64\n",
      "feat_39    61878 non-null int64\n",
      "feat_40    61878 non-null int64\n",
      "feat_41    61878 non-null int64\n",
      "feat_42    61878 non-null int64\n",
      "feat_43    61878 non-null int64\n",
      "feat_44    61878 non-null int64\n",
      "feat_45    61878 non-null int64\n",
      "feat_46    61878 non-null int64\n",
      "feat_47    61878 non-null int64\n",
      "feat_48    61878 non-null int64\n",
      "feat_49    61878 non-null int64\n",
      "feat_50    61878 non-null int64\n",
      "feat_51    61878 non-null int64\n",
      "feat_52    61878 non-null int64\n",
      "feat_53    61878 non-null int64\n",
      "feat_54    61878 non-null int64\n",
      "feat_55    61878 non-null int64\n",
      "feat_56    61878 non-null int64\n",
      "feat_57    61878 non-null int64\n",
      "feat_58    61878 non-null int64\n",
      "feat_59    61878 non-null int64\n",
      "feat_60    61878 non-null int64\n",
      "feat_61    61878 non-null int64\n",
      "feat_62    61878 non-null int64\n",
      "feat_63    61878 non-null int64\n",
      "feat_64    61878 non-null int64\n",
      "feat_65    61878 non-null int64\n",
      "feat_66    61878 non-null int64\n",
      "feat_67    61878 non-null int64\n",
      "feat_68    61878 non-null int64\n",
      "feat_69    61878 non-null int64\n",
      "feat_70    61878 non-null int64\n",
      "feat_71    61878 non-null int64\n",
      "feat_72    61878 non-null int64\n",
      "feat_73    61878 non-null int64\n",
      "feat_74    61878 non-null int64\n",
      "feat_75    61878 non-null int64\n",
      "feat_76    61878 non-null int64\n",
      "feat_77    61878 non-null int64\n",
      "feat_78    61878 non-null int64\n",
      "feat_79    61878 non-null int64\n",
      "feat_80    61878 non-null int64\n",
      "feat_81    61878 non-null int64\n",
      "feat_82    61878 non-null int64\n",
      "feat_83    61878 non-null int64\n",
      "feat_84    61878 non-null int64\n",
      "feat_85    61878 non-null int64\n",
      "feat_86    61878 non-null int64\n",
      "feat_87    61878 non-null int64\n",
      "feat_88    61878 non-null int64\n",
      "feat_89    61878 non-null int64\n",
      "feat_90    61878 non-null int64\n",
      "feat_91    61878 non-null int64\n",
      "feat_92    61878 non-null int64\n",
      "feat_93    61878 non-null int64\n",
      "target     61878 non-null object\n",
      "dtypes: int64(94), object(1)\n",
      "memory usage: 44.8+ MB\n"
     ]
    }
   ],
   "source": [
    "# Your code here\n",
    "df_raw.info()"
   ]
  },
  {
   "cell_type": "code",
   "execution_count": 10,
   "metadata": {},
   "outputs": [
    {
     "data": {
      "application/vnd.jupyter.widget-view+json": {
       "model_id": "1659b957bda24255aec8a85202a1fbc4",
       "version_major": 2,
       "version_minor": 0
      },
      "text/plain": [
       "interactive(children=(Dropdown(description='feature', options=('id', 'feat_1', 'feat_2', 'feat_3', 'feat_4', '…"
      ]
     },
     "metadata": {},
     "output_type": "display_data"
    }
   ],
   "source": [
    "# Your code here\n",
    "@interact\n",
    "def histograms(feature = df_raw.columns):\n",
    "    df_raw[feature].hist(figsize=(16,5))"
   ]
  },
  {
   "cell_type": "markdown",
   "metadata": {},
   "source": [
    "If you look at all the histograms, you can tell that a lot of the data are zero-inflated, so most of the variables contain mostly zeros and then some higher values here and there. No normality, but for most machine learning techniques this is not an issue. "
   ]
  },
  {
   "cell_type": "markdown",
   "metadata": {},
   "source": [
    "Because the data is zero-inflated the boxplots look as shown above. Because there are this many zeroes, most values above zero will seem to be outliers. The safe decision for this data is to not delete any outliers and see what happens. With many 0s, sparse data is available and high values may be super informative. More-over, without having any intuitive meaning for each of the features, we don't know if a value of ~260 is actually an outlier."
   ]
  },
  {
   "cell_type": "code",
   "execution_count": null,
   "metadata": {},
   "outputs": [],
   "source": [
    "# Your code here"
   ]
  },
  {
   "cell_type": "markdown",
   "metadata": {},
   "source": [
    "## Feature engineering and selection with PCA"
   ]
  },
  {
   "cell_type": "markdown",
   "metadata": {},
   "source": [
    "Have a look at the correlation structure of your features using a heatmap."
   ]
  },
  {
   "cell_type": "code",
   "execution_count": 13,
   "metadata": {},
   "outputs": [
    {
     "data": {
      "text/plain": [
       "<matplotlib.axes._subplots.AxesSubplot at 0x1a9138cdd0>"
      ]
     },
     "execution_count": 13,
     "metadata": {},
     "output_type": "execute_result"
    },
    {
     "data": {
      "image/png": "[encoded data removed]",
      "text/plain": [
       "<Figure size 1152x720 with 2 Axes>"
      ]
     },
     "metadata": {
      "needs_background": "light"
     },
     "output_type": "display_data"
    }
   ],
   "source": [
    "# Your code here\n",
    "corr = df_raw.drop(['id','target'], axis = 1).corr()\n",
    "plt.figure(figsize=(16,10))\n",
    "sns.heatmap(corr)"
   ]
  },
  {
   "cell_type": "markdown",
   "metadata": {},
   "source": [
    "Use PCA to downscale your features. Use PCA to select a number of features in a way that you still keep 80% of your explained variance."
   ]
  },
  {
   "cell_type": "code",
   "execution_count": 14,
   "metadata": {},
   "outputs": [],
   "source": [
    "X = df_raw.drop(['id','target'], axis = 1)\n",
    "y = df_raw.target"
   ]
  },
  {
   "cell_type": "code",
   "execution_count": 15,
   "metadata": {},
   "outputs": [
    {
     "data": {
      "text/plain": [
       "PCA(copy=True, iterated_power='auto', n_components=None, random_state=None,\n",
       "    svd_solver='auto', tol=0.0, whiten=False)"
      ]
     },
     "execution_count": 15,
     "metadata": {},
     "output_type": "execute_result"
    }
   ],
   "source": [
    "# Your code here\n",
    "from sklearn.decomposition import PCA\n",
    "pca = PCA()\n",
    "pca.fit(X)"
   ]
  },
  {
   "cell_type": "code",
   "execution_count": 19,
   "metadata": {},
   "outputs": [
    {
     "data": {
      "text/plain": [
       "27"
      ]
     },
     "execution_count": 19,
     "metadata": {},
     "output_type": "execute_result"
    }
   ],
   "source": [
    "# Your code here\n",
    "n_features = np.where(pca.explained_variance_ratio_.cumsum() > 0.8)[0][0]+1\n",
    "n_features"
   ]
  },
  {
   "cell_type": "code",
   "execution_count": 17,
   "metadata": {},
   "outputs": [],
   "source": [
    "pca = PCA(n_components=27)\n",
    "pca.fit(X)\n",
    "X_r = pd.DataFrame(pca.transform(X))"
   ]
  },
  {
   "cell_type": "markdown",
   "metadata": {},
   "source": [
    "## Create a train test split with a test size of 40%"
   ]
  },
  {
   "cell_type": "markdown",
   "metadata": {},
   "source": [
    "This is a relatively big training set. Feel free to make it smaller (down to ~20%), but for an initial run you can try smaller training sets so the computation time is more manageable.\n",
    "\n",
    "For now, simply use the original data and not the principal components. We looked at the PC's first to get a sense of our correlation structure, and to see how we can downsize our data without losing too much information. In what's next, you'll make PCA part of the pipeline!!"
   ]
  },
  {
   "cell_type": "code",
   "execution_count": 18,
   "metadata": {},
   "outputs": [],
   "source": [
    "# Your code here\n",
    "from sklearn.model_selection import train_test_split\n",
    "X_train, X_test, y_train, y_test = train_test_split(X, y, train_size = 0.2)"
   ]
  },
  {
   "cell_type": "markdown",
   "metadata": {},
   "source": [
    "## Create a baseline model"
   ]
  },
  {
   "cell_type": "markdown",
   "metadata": {},
   "source": [
    "Create your baseline model *in a pipeline setting*. In the pipeline\n",
    "- Your first step will be to scale your features down to the number of features that ensure you keep just 80% of your explained variance (which we saw before)\n",
    "- Your second step will be the building a basic logistic regression model.\n",
    "\n",
    "Make sure to fit the model using the training set, and test the result by obtaining the accuracy using the test set."
   ]
  },
  {
   "cell_type": "code",
   "execution_count": 21,
   "metadata": {},
   "outputs": [],
   "source": [
    "# Your code here\n",
    "from sklearn.pipeline import Pipeline\n",
    "from sklearn.linear_model import LogisticRegression\n",
    "pipe = Pipeline([('pca', PCA(n_components = n_features)),\n",
    "                 ('logit', LogisticRegression())])"
   ]
  },
  {
   "cell_type": "code",
   "execution_count": 22,
   "metadata": {},
   "outputs": [
    {
     "name": "stderr",
     "output_type": "stream",
     "text": [
      "//anaconda3/lib/python3.7/site-packages/sklearn/linear_model/logistic.py:432: FutureWarning: Default solver will be changed to 'lbfgs' in 0.22. Specify a solver to silence this warning.\n",
      "  FutureWarning)\n",
      "//anaconda3/lib/python3.7/site-packages/sklearn/linear_model/logistic.py:469: FutureWarning: Default multi_class will be changed to 'auto' in 0.22. Specify the multi_class option to silence this warning.\n",
      "  \"this warning.\", FutureWarning)\n"
     ]
    },
    {
     "data": {
      "text/plain": [
       "Pipeline(memory=None,\n",
       "         steps=[('pca',\n",
       "                 PCA(copy=True, iterated_power='auto', n_components=27,\n",
       "                     random_state=None, svd_solver='auto', tol=0.0,\n",
       "                     whiten=False)),\n",
       "                ('logit',\n",
       "                 LogisticRegression(C=1.0, class_weight=None, dual=False,\n",
       "                                    fit_intercept=True, intercept_scaling=1,\n",
       "                                    l1_ratio=None, max_iter=100,\n",
       "                                    multi_class='warn', n_jobs=None,\n",
       "                                    penalty='l2', random_state=None,\n",
       "                                    solver='warn', tol=0.0001, verbose=0,\n",
       "                                    warm_start=False))],\n",
       "         verbose=False)"
      ]
     },
     "execution_count": 22,
     "metadata": {},
     "output_type": "execute_result"
    }
   ],
   "source": [
    "# Your code here\n",
    "pipe.fit(X_train,y_train)"
   ]
  },
  {
   "cell_type": "code",
   "execution_count": 23,
   "metadata": {},
   "outputs": [
    {
     "data": {
      "text/plain": [
       "0.7139971314869806"
      ]
     },
     "execution_count": 23,
     "metadata": {},
     "output_type": "execute_result"
    }
   ],
   "source": [
    "# Your code here\n",
    "pipe.score(X_test, y_test)"
   ]
  },
  {
   "cell_type": "markdown",
   "metadata": {},
   "source": [
    "## Create a pipeline consisting of a linear SVM, a simple Decision Tree and a simple Random Forest Classifier"
   ]
  },
  {
   "cell_type": "markdown",
   "metadata": {},
   "source": [
    "Repeat the above, but now create three different pipelines:\n",
    "- One for a standard linear SCM\n",
    "- One for a default decision tree\n",
    "- One for a RandomForestClassifier"
   ]
  },
  {
   "cell_type": "code",
   "execution_count": 24,
   "metadata": {},
   "outputs": [],
   "source": [
    "# Your code here\n",
    "from sklearn.svm import SVC\n",
    "from sklearn.tree import DecisionTreeClassifier\n",
    "from sklearn.ensemble import RandomForestClassifier\n",
    "\n",
    "\n",
    "pipeSVC = Pipeline([('pca', PCA(n_components = n_features)),\n",
    "                 ('SVC', SVC())])\n",
    "pipeDT = Pipeline([('pca', PCA(n_components = n_features)),\n",
    "                 ('DT', LogisticRegression())])\n",
    "pipeRF = Pipeline([('pca', PCA(n_components = n_features)),\n",
    "                 ('RF', RandomForestClassifier())])"
   ]
  },
  {
   "cell_type": "code",
   "execution_count": null,
   "metadata": {
    "scrolled": false
   },
   "outputs": [],
   "source": [
    "pipeSVC.fit(X_train, y_train)\n",
    "pipeDT.fit(X_train, y_train)\n",
    "pipeRF.fit(X_train, y_train)"
   ]
  },
  {
   "cell_type": "code",
   "execution_count": 26,
   "metadata": {},
   "outputs": [
    {
     "name": "stdout",
     "output_type": "stream",
     "text": [
      "0.7106640001616064\n",
      "0.7145021513847646\n",
      "0.7226632729329535\n"
     ]
    }
   ],
   "source": [
    "print(pipeSVC.score(X_test,y_test))\n",
    "print(pipeDT.score(X_test,y_test))\n",
    "print(pipeRF.score(X_test,y_test))"
   ]
  },
  {
   "cell_type": "markdown",
   "metadata": {},
   "source": [
    "## Pipeline with grid search"
   ]
  },
  {
   "cell_type": "markdown",
   "metadata": {},
   "source": [
    "Construct 3 pipelines with grid search\n",
    "- one for support vector machines - make sure your grid isn't too big. You'll see it takes quite a while to fit SVMs with non-linear kernel functions!\n",
    "- one for random forests - try to have around 40 different models\n",
    "- one for the adaboost algorithm. "
   ]
  },
  {
   "cell_type": "markdown",
   "metadata": {},
   "source": [
    "### SVM pipeline with grid search"
   ]
  },
  {
   "cell_type": "code",
   "execution_count": 27,
   "metadata": {},
   "outputs": [],
   "source": [
    "from sklearn.model_selection import GridSearchCV"
   ]
  },
  {
   "cell_type": "code",
   "execution_count": 36,
   "metadata": {},
   "outputs": [
    {
     "data": {
      "text/plain": [
       "GridSearchCV(cv=3, error_score='raise-deprecating',\n",
       "             estimator=Pipeline(memory=None,\n",
       "                                steps=[('pca',\n",
       "                                        PCA(copy=True, iterated_power='auto',\n",
       "                                            n_components=27, random_state=None,\n",
       "                                            svd_solver='auto', tol=0.0,\n",
       "                                            whiten=False)),\n",
       "                                       ('SVC',\n",
       "                                        SVC(C=1.0, cache_size=200,\n",
       "                                            class_weight=None, coef0=0.0,\n",
       "                                            decision_function_shape='ovr',\n",
       "                                            degree=3, gamma='auto_deprecated',\n",
       "                                            kernel='rbf', max_iter=-1,\n",
       "                                            probability=False,\n",
       "                                            random_state=None, shrinking=True,\n",
       "                                            tol=0.001, verbose=False))],\n",
       "                                verbose=False),\n",
       "             iid='warn', n_jobs=-1,\n",
       "             param_grid=[{'SVC__C': [0.01, 1, 10], 'SVC__coef0': [2, 3, 4],\n",
       "                          'SVC__gamma': [0.001, 0.01]}],\n",
       "             pre_dispatch='2*n_jobs', refit=True, return_train_score=False,\n",
       "             scoring='accuracy', verbose=0)"
      ]
     },
     "execution_count": 36,
     "metadata": {},
     "output_type": "execute_result"
    }
   ],
   "source": [
    "# Your code here\n",
    "gridSVC = [{'SVC__C': [0.01, 1, 10],\n",
    "         'SVC__coef0': [2,3,4],\n",
    "         'SVC__gamma': [0.001, 0.01]}]\n",
    "gridsearchSVC = GridSearchCV(pipeSVC, param_grid = gridSVC, scoring = 'accuracy', cv = 3, n_jobs = -1)\n",
    "gridsearchSVC.fit(X_train,y_train)"
   ]
  },
  {
   "cell_type": "markdown",
   "metadata": {},
   "source": [
    "Use your grid search object along with `.cv_results` to get the full result overview"
   ]
  },
  {
   "cell_type": "code",
   "execution_count": 38,
   "metadata": {},
   "outputs": [
    {
     "data": {
      "text/html": [
       "<div>\n",
       "<style scoped>\n",
       "    .dataframe tbody tr th:only-of-type {\n",
       "        vertical-align: middle;\n",
       "    }\n",
       "\n",
       "    .dataframe tbody tr th {\n",
       "        vertical-align: top;\n",
       "    }\n",
       "\n",
       "    .dataframe thead th {\n",
       "        text-align: right;\n",
       "    }\n",
       "</style>\n",
       "<table border=\"1\" class=\"dataframe\">\n",
       "  <thead>\n",
       "    <tr style=\"text-align: right;\">\n",
       "      <th></th>\n",
       "      <th>mean_fit_time</th>\n",
       "      <th>std_fit_time</th>\n",
       "      <th>mean_score_time</th>\n",
       "      <th>std_score_time</th>\n",
       "      <th>param_SVC__C</th>\n",
       "      <th>param_SVC__coef0</th>\n",
       "      <th>param_SVC__gamma</th>\n",
       "      <th>params</th>\n",
       "      <th>split0_test_score</th>\n",
       "      <th>split1_test_score</th>\n",
       "      <th>split2_test_score</th>\n",
       "      <th>mean_test_score</th>\n",
       "      <th>std_test_score</th>\n",
       "      <th>rank_test_score</th>\n",
       "    </tr>\n",
       "  </thead>\n",
       "  <tbody>\n",
       "    <tr>\n",
       "      <th>0</th>\n",
       "      <td>12.618329</td>\n",
       "      <td>0.080362</td>\n",
       "      <td>3.086590</td>\n",
       "      <td>0.118666</td>\n",
       "      <td>0.01</td>\n",
       "      <td>2</td>\n",
       "      <td>0.001</td>\n",
       "      <td>{'SVC__C': 0.01, 'SVC__coef0': 2, 'SVC__gamma'...</td>\n",
       "      <td>0.521444</td>\n",
       "      <td>0.512118</td>\n",
       "      <td>0.519408</td>\n",
       "      <td>0.517657</td>\n",
       "      <td>0.004004</td>\n",
       "      <td>14</td>\n",
       "    </tr>\n",
       "    <tr>\n",
       "      <th>1</th>\n",
       "      <td>14.157506</td>\n",
       "      <td>0.683224</td>\n",
       "      <td>2.889695</td>\n",
       "      <td>0.262642</td>\n",
       "      <td>0.01</td>\n",
       "      <td>2</td>\n",
       "      <td>0.01</td>\n",
       "      <td>{'SVC__C': 0.01, 'SVC__coef0': 2, 'SVC__gamma'...</td>\n",
       "      <td>0.497940</td>\n",
       "      <td>0.498788</td>\n",
       "      <td>0.497089</td>\n",
       "      <td>0.497939</td>\n",
       "      <td>0.000694</td>\n",
       "      <td>18</td>\n",
       "    </tr>\n",
       "    <tr>\n",
       "      <th>2</th>\n",
       "      <td>13.013861</td>\n",
       "      <td>1.029742</td>\n",
       "      <td>2.699269</td>\n",
       "      <td>0.066407</td>\n",
       "      <td>0.01</td>\n",
       "      <td>3</td>\n",
       "      <td>0.001</td>\n",
       "      <td>{'SVC__C': 0.01, 'SVC__coef0': 3, 'SVC__gamma'...</td>\n",
       "      <td>0.521444</td>\n",
       "      <td>0.512118</td>\n",
       "      <td>0.517710</td>\n",
       "      <td>0.517091</td>\n",
       "      <td>0.003833</td>\n",
       "      <td>15</td>\n",
       "    </tr>\n",
       "    <tr>\n",
       "      <th>3</th>\n",
       "      <td>11.934832</td>\n",
       "      <td>0.017216</td>\n",
       "      <td>2.561318</td>\n",
       "      <td>0.024640</td>\n",
       "      <td>0.01</td>\n",
       "      <td>3</td>\n",
       "      <td>0.01</td>\n",
       "      <td>{'SVC__C': 0.01, 'SVC__coef0': 3, 'SVC__gamma'...</td>\n",
       "      <td>0.498667</td>\n",
       "      <td>0.498546</td>\n",
       "      <td>0.497331</td>\n",
       "      <td>0.498182</td>\n",
       "      <td>0.000603</td>\n",
       "      <td>16</td>\n",
       "    </tr>\n",
       "    <tr>\n",
       "      <th>4</th>\n",
       "      <td>12.200225</td>\n",
       "      <td>0.135803</td>\n",
       "      <td>3.073520</td>\n",
       "      <td>0.097621</td>\n",
       "      <td>0.01</td>\n",
       "      <td>4</td>\n",
       "      <td>0.001</td>\n",
       "      <td>{'SVC__C': 0.01, 'SVC__coef0': 4, 'SVC__gamma'...</td>\n",
       "      <td>0.521686</td>\n",
       "      <td>0.512603</td>\n",
       "      <td>0.518923</td>\n",
       "      <td>0.517737</td>\n",
       "      <td>0.003802</td>\n",
       "      <td>13</td>\n",
       "    </tr>\n",
       "    <tr>\n",
       "      <th>5</th>\n",
       "      <td>14.736356</td>\n",
       "      <td>1.218344</td>\n",
       "      <td>2.970030</td>\n",
       "      <td>0.143464</td>\n",
       "      <td>0.01</td>\n",
       "      <td>4</td>\n",
       "      <td>0.01</td>\n",
       "      <td>{'SVC__C': 0.01, 'SVC__coef0': 4, 'SVC__gamma'...</td>\n",
       "      <td>0.498425</td>\n",
       "      <td>0.497819</td>\n",
       "      <td>0.497817</td>\n",
       "      <td>0.498020</td>\n",
       "      <td>0.000286</td>\n",
       "      <td>17</td>\n",
       "    </tr>\n",
       "    <tr>\n",
       "      <th>6</th>\n",
       "      <td>6.363694</td>\n",
       "      <td>0.365380</td>\n",
       "      <td>2.490563</td>\n",
       "      <td>0.419124</td>\n",
       "      <td>1</td>\n",
       "      <td>2</td>\n",
       "      <td>0.001</td>\n",
       "      <td>{'SVC__C': 1, 'SVC__coef0': 2, 'SVC__gamma': 0...</td>\n",
       "      <td>0.711413</td>\n",
       "      <td>0.717644</td>\n",
       "      <td>0.722222</td>\n",
       "      <td>0.717091</td>\n",
       "      <td>0.004430</td>\n",
       "      <td>10</td>\n",
       "    </tr>\n",
       "    <tr>\n",
       "      <th>7</th>\n",
       "      <td>7.926283</td>\n",
       "      <td>0.069869</td>\n",
       "      <td>2.339920</td>\n",
       "      <td>0.039062</td>\n",
       "      <td>1</td>\n",
       "      <td>2</td>\n",
       "      <td>0.01</td>\n",
       "      <td>{'SVC__C': 1, 'SVC__coef0': 2, 'SVC__gamma': 0...</td>\n",
       "      <td>0.718440</td>\n",
       "      <td>0.729762</td>\n",
       "      <td>0.729985</td>\n",
       "      <td>0.726061</td>\n",
       "      <td>0.005392</td>\n",
       "      <td>7</td>\n",
       "    </tr>\n",
       "    <tr>\n",
       "      <th>8</th>\n",
       "      <td>5.926820</td>\n",
       "      <td>0.309002</td>\n",
       "      <td>1.984083</td>\n",
       "      <td>0.044878</td>\n",
       "      <td>1</td>\n",
       "      <td>3</td>\n",
       "      <td>0.001</td>\n",
       "      <td>{'SVC__C': 1, 'SVC__coef0': 3, 'SVC__gamma': 0...</td>\n",
       "      <td>0.708747</td>\n",
       "      <td>0.717887</td>\n",
       "      <td>0.722465</td>\n",
       "      <td>0.716364</td>\n",
       "      <td>0.005702</td>\n",
       "      <td>12</td>\n",
       "    </tr>\n",
       "    <tr>\n",
       "      <th>9</th>\n",
       "      <td>8.515240</td>\n",
       "      <td>0.353568</td>\n",
       "      <td>2.626520</td>\n",
       "      <td>0.277904</td>\n",
       "      <td>1</td>\n",
       "      <td>3</td>\n",
       "      <td>0.01</td>\n",
       "      <td>{'SVC__C': 1, 'SVC__coef0': 3, 'SVC__gamma': 0...</td>\n",
       "      <td>0.719409</td>\n",
       "      <td>0.728793</td>\n",
       "      <td>0.728287</td>\n",
       "      <td>0.725495</td>\n",
       "      <td>0.004310</td>\n",
       "      <td>8</td>\n",
       "    </tr>\n",
       "    <tr>\n",
       "      <th>10</th>\n",
       "      <td>5.509436</td>\n",
       "      <td>0.578373</td>\n",
       "      <td>1.764916</td>\n",
       "      <td>0.013614</td>\n",
       "      <td>1</td>\n",
       "      <td>4</td>\n",
       "      <td>0.001</td>\n",
       "      <td>{'SVC__C': 1, 'SVC__coef0': 4, 'SVC__gamma': 0...</td>\n",
       "      <td>0.709717</td>\n",
       "      <td>0.718371</td>\n",
       "      <td>0.722950</td>\n",
       "      <td>0.717010</td>\n",
       "      <td>0.005487</td>\n",
       "      <td>11</td>\n",
       "    </tr>\n",
       "    <tr>\n",
       "      <th>11</th>\n",
       "      <td>7.306566</td>\n",
       "      <td>0.191940</td>\n",
       "      <td>2.080082</td>\n",
       "      <td>0.090702</td>\n",
       "      <td>1</td>\n",
       "      <td>4</td>\n",
       "      <td>0.01</td>\n",
       "      <td>{'SVC__C': 1, 'SVC__coef0': 4, 'SVC__gamma': 0...</td>\n",
       "      <td>0.718440</td>\n",
       "      <td>0.728066</td>\n",
       "      <td>0.729015</td>\n",
       "      <td>0.725172</td>\n",
       "      <td>0.004778</td>\n",
       "      <td>9</td>\n",
       "    </tr>\n",
       "    <tr>\n",
       "      <th>12</th>\n",
       "      <td>4.703482</td>\n",
       "      <td>0.106210</td>\n",
       "      <td>1.666769</td>\n",
       "      <td>0.111186</td>\n",
       "      <td>10</td>\n",
       "      <td>2</td>\n",
       "      <td>0.001</td>\n",
       "      <td>{'SVC__C': 10, 'SVC__coef0': 2, 'SVC__gamma': ...</td>\n",
       "      <td>0.731282</td>\n",
       "      <td>0.737276</td>\n",
       "      <td>0.741873</td>\n",
       "      <td>0.736808</td>\n",
       "      <td>0.004336</td>\n",
       "      <td>1</td>\n",
       "    </tr>\n",
       "    <tr>\n",
       "      <th>13</th>\n",
       "      <td>7.502713</td>\n",
       "      <td>0.145494</td>\n",
       "      <td>1.812939</td>\n",
       "      <td>0.050313</td>\n",
       "      <td>10</td>\n",
       "      <td>2</td>\n",
       "      <td>0.01</td>\n",
       "      <td>{'SVC__C': 10, 'SVC__coef0': 2, 'SVC__gamma': ...</td>\n",
       "      <td>0.736613</td>\n",
       "      <td>0.738972</td>\n",
       "      <td>0.731198</td>\n",
       "      <td>0.735596</td>\n",
       "      <td>0.003254</td>\n",
       "      <td>3</td>\n",
       "    </tr>\n",
       "    <tr>\n",
       "      <th>14</th>\n",
       "      <td>4.326138</td>\n",
       "      <td>0.130734</td>\n",
       "      <td>1.572438</td>\n",
       "      <td>0.055895</td>\n",
       "      <td>10</td>\n",
       "      <td>3</td>\n",
       "      <td>0.001</td>\n",
       "      <td>{'SVC__C': 10, 'SVC__coef0': 3, 'SVC__gamma': ...</td>\n",
       "      <td>0.728374</td>\n",
       "      <td>0.739215</td>\n",
       "      <td>0.742601</td>\n",
       "      <td>0.736727</td>\n",
       "      <td>0.006068</td>\n",
       "      <td>2</td>\n",
       "    </tr>\n",
       "    <tr>\n",
       "      <th>15</th>\n",
       "      <td>7.343475</td>\n",
       "      <td>0.079772</td>\n",
       "      <td>1.853905</td>\n",
       "      <td>0.044615</td>\n",
       "      <td>10</td>\n",
       "      <td>3</td>\n",
       "      <td>0.01</td>\n",
       "      <td>{'SVC__C': 10, 'SVC__coef0': 3, 'SVC__gamma': ...</td>\n",
       "      <td>0.735159</td>\n",
       "      <td>0.736064</td>\n",
       "      <td>0.731684</td>\n",
       "      <td>0.734303</td>\n",
       "      <td>0.001888</td>\n",
       "      <td>6</td>\n",
       "    </tr>\n",
       "    <tr>\n",
       "      <th>16</th>\n",
       "      <td>4.380235</td>\n",
       "      <td>0.021679</td>\n",
       "      <td>1.562793</td>\n",
       "      <td>0.021276</td>\n",
       "      <td>10</td>\n",
       "      <td>4</td>\n",
       "      <td>0.001</td>\n",
       "      <td>{'SVC__C': 10, 'SVC__coef0': 4, 'SVC__gamma': ...</td>\n",
       "      <td>0.729101</td>\n",
       "      <td>0.737761</td>\n",
       "      <td>0.739689</td>\n",
       "      <td>0.735515</td>\n",
       "      <td>0.004605</td>\n",
       "      <td>4</td>\n",
       "    </tr>\n",
       "    <tr>\n",
       "      <th>17</th>\n",
       "      <td>5.946166</td>\n",
       "      <td>0.482927</td>\n",
       "      <td>1.305599</td>\n",
       "      <td>0.233454</td>\n",
       "      <td>10</td>\n",
       "      <td>4</td>\n",
       "      <td>0.01</td>\n",
       "      <td>{'SVC__C': 10, 'SVC__coef0': 4, 'SVC__gamma': ...</td>\n",
       "      <td>0.734432</td>\n",
       "      <td>0.738003</td>\n",
       "      <td>0.731684</td>\n",
       "      <td>0.734707</td>\n",
       "      <td>0.002587</td>\n",
       "      <td>5</td>\n",
       "    </tr>\n",
       "  </tbody>\n",
       "</table>\n",
       "</div>"
      ],
      "text/plain": [
       "    mean_fit_time  std_fit_time  mean_score_time  std_score_time param_SVC__C  \\\n",
       "0       12.618329      0.080362         3.086590        0.118666         0.01   \n",
       "1       14.157506      0.683224         2.889695        0.262642         0.01   \n",
       "2       13.013861      1.029742         2.699269        0.066407         0.01   \n",
       "3       11.934832      0.017216         2.561318        0.024640         0.01   \n",
       "4       12.200225      0.135803         3.073520        0.097621         0.01   \n",
       "5       14.736356      1.218344         2.970030        0.143464         0.01   \n",
       "6        6.363694      0.365380         2.490563        0.419124            1   \n",
       "7        7.926283      0.069869         2.339920        0.039062            1   \n",
       "8        5.926820      0.309002         1.984083        0.044878            1   \n",
       "9        8.515240      0.353568         2.626520        0.277904            1   \n",
       "10       5.509436      0.578373         1.764916        0.013614            1   \n",
       "11       7.306566      0.191940         2.080082        0.090702            1   \n",
       "12       4.703482      0.106210         1.666769        0.111186           10   \n",
       "13       7.502713      0.145494         1.812939        0.050313           10   \n",
       "14       4.326138      0.130734         1.572438        0.055895           10   \n",
       "15       7.343475      0.079772         1.853905        0.044615           10   \n",
       "16       4.380235      0.021679         1.562793        0.021276           10   \n",
       "17       5.946166      0.482927         1.305599        0.233454           10   \n",
       "\n",
       "   param_SVC__coef0 param_SVC__gamma  \\\n",
       "0                 2            0.001   \n",
       "1                 2             0.01   \n",
       "2                 3            0.001   \n",
       "3                 3             0.01   \n",
       "4                 4            0.001   \n",
       "5                 4             0.01   \n",
       "6                 2            0.001   \n",
       "7                 2             0.01   \n",
       "8                 3            0.001   \n",
       "9                 3             0.01   \n",
       "10                4            0.001   \n",
       "11                4             0.01   \n",
       "12                2            0.001   \n",
       "13                2             0.01   \n",
       "14                3            0.001   \n",
       "15                3             0.01   \n",
       "16                4            0.001   \n",
       "17                4             0.01   \n",
       "\n",
       "                                               params  split0_test_score  \\\n",
       "0   {'SVC__C': 0.01, 'SVC__coef0': 2, 'SVC__gamma'...           0.521444   \n",
       "1   {'SVC__C': 0.01, 'SVC__coef0': 2, 'SVC__gamma'...           0.497940   \n",
       "2   {'SVC__C': 0.01, 'SVC__coef0': 3, 'SVC__gamma'...           0.521444   \n",
       "3   {'SVC__C': 0.01, 'SVC__coef0': 3, 'SVC__gamma'...           0.498667   \n",
       "4   {'SVC__C': 0.01, 'SVC__coef0': 4, 'SVC__gamma'...           0.521686   \n",
       "5   {'SVC__C': 0.01, 'SVC__coef0': 4, 'SVC__gamma'...           0.498425   \n",
       "6   {'SVC__C': 1, 'SVC__coef0': 2, 'SVC__gamma': 0...           0.711413   \n",
       "7   {'SVC__C': 1, 'SVC__coef0': 2, 'SVC__gamma': 0...           0.718440   \n",
       "8   {'SVC__C': 1, 'SVC__coef0': 3, 'SVC__gamma': 0...           0.708747   \n",
       "9   {'SVC__C': 1, 'SVC__coef0': 3, 'SVC__gamma': 0...           0.719409   \n",
       "10  {'SVC__C': 1, 'SVC__coef0': 4, 'SVC__gamma': 0...           0.709717   \n",
       "11  {'SVC__C': 1, 'SVC__coef0': 4, 'SVC__gamma': 0...           0.718440   \n",
       "12  {'SVC__C': 10, 'SVC__coef0': 2, 'SVC__gamma': ...           0.731282   \n",
       "13  {'SVC__C': 10, 'SVC__coef0': 2, 'SVC__gamma': ...           0.736613   \n",
       "14  {'SVC__C': 10, 'SVC__coef0': 3, 'SVC__gamma': ...           0.728374   \n",
       "15  {'SVC__C': 10, 'SVC__coef0': 3, 'SVC__gamma': ...           0.735159   \n",
       "16  {'SVC__C': 10, 'SVC__coef0': 4, 'SVC__gamma': ...           0.729101   \n",
       "17  {'SVC__C': 10, 'SVC__coef0': 4, 'SVC__gamma': ...           0.734432   \n",
       "\n",
       "    split1_test_score  split2_test_score  mean_test_score  std_test_score  \\\n",
       "0            0.512118           0.519408         0.517657        0.004004   \n",
       "1            0.498788           0.497089         0.497939        0.000694   \n",
       "2            0.512118           0.517710         0.517091        0.003833   \n",
       "3            0.498546           0.497331         0.498182        0.000603   \n",
       "4            0.512603           0.518923         0.517737        0.003802   \n",
       "5            0.497819           0.497817         0.498020        0.000286   \n",
       "6            0.717644           0.722222         0.717091        0.004430   \n",
       "7            0.729762           0.729985         0.726061        0.005392   \n",
       "8            0.717887           0.722465         0.716364        0.005702   \n",
       "9            0.728793           0.728287         0.725495        0.004310   \n",
       "10           0.718371           0.722950         0.717010        0.005487   \n",
       "11           0.728066           0.729015         0.725172        0.004778   \n",
       "12           0.737276           0.741873         0.736808        0.004336   \n",
       "13           0.738972           0.731198         0.735596        0.003254   \n",
       "14           0.739215           0.742601         0.736727        0.006068   \n",
       "15           0.736064           0.731684         0.734303        0.001888   \n",
       "16           0.737761           0.739689         0.735515        0.004605   \n",
       "17           0.738003           0.731684         0.734707        0.002587   \n",
       "\n",
       "    rank_test_score  \n",
       "0                14  \n",
       "1                18  \n",
       "2                15  \n",
       "3                16  \n",
       "4                13  \n",
       "5                17  \n",
       "6                10  \n",
       "7                 7  \n",
       "8                12  \n",
       "9                 8  \n",
       "10               11  \n",
       "11                9  \n",
       "12                1  \n",
       "13                3  \n",
       "14                2  \n",
       "15                6  \n",
       "16                4  \n",
       "17                5  "
      ]
     },
     "execution_count": 38,
     "metadata": {},
     "output_type": "execute_result"
    }
   ],
   "source": [
    "# Your code here\n",
    "pd.DataFrame(gridsearchSVC.cv_results_)"
   ]
  },
  {
   "cell_type": "code",
   "execution_count": 40,
   "metadata": {},
   "outputs": [
    {
     "data": {
      "text/plain": [
       "0.7505605720865403"
      ]
     },
     "execution_count": 40,
     "metadata": {},
     "output_type": "execute_result"
    }
   ],
   "source": [
    "gridsearchSVC.best_estimator_.score(X_test, y_test)"
   ]
  },
  {
   "cell_type": "markdown",
   "metadata": {},
   "source": [
    "### Random Forest pipeline with grid search"
   ]
  },
  {
   "cell_type": "code",
   "execution_count": 39,
   "metadata": {},
   "outputs": [
    {
     "data": {
      "text/plain": [
       "GridSearchCV(cv=3, error_score='raise-deprecating',\n",
       "             estimator=Pipeline(memory=None,\n",
       "                                steps=[('pca',\n",
       "                                        PCA(copy=True, iterated_power='auto',\n",
       "                                            n_components=27, random_state=None,\n",
       "                                            svd_solver='auto', tol=0.0,\n",
       "                                            whiten=False)),\n",
       "                                       ('RF',\n",
       "                                        RandomForestClassifier(bootstrap=True,\n",
       "                                                               class_weight=None,\n",
       "                                                               criterion='gini',\n",
       "                                                               max_depth=None,\n",
       "                                                               max_features='auto',\n",
       "                                                               max_leaf_nodes=None,\n",
       "                                                               min_impuri...\n",
       "                                                               oob_score=False,\n",
       "                                                               random_state=None,\n",
       "                                                               verbose=0,\n",
       "                                                               warm_start=False))],\n",
       "                                verbose=False),\n",
       "             iid='warn', n_jobs=-1,\n",
       "             param_grid=[{'RF__max_depth': [10, 20, 30],\n",
       "                          'RF__n_estimators': [50, 55, 60, 65, 70, 75, 80, 85,\n",
       "                                               90, 95, 100, 105, 110, 115, 120,\n",
       "                                               125, 130, 135, 140, 145, 150,\n",
       "                                               155, 160, 165, 170, 175, 180,\n",
       "                                               185, 190, 195]}],\n",
       "             pre_dispatch='2*n_jobs', refit=True, return_train_score=False,\n",
       "             scoring='accuracy', verbose=0)"
      ]
     },
     "execution_count": 39,
     "metadata": {},
     "output_type": "execute_result"
    }
   ],
   "source": [
    "# Your code here\n",
    "# Your code here\n",
    "gridRF = [{'RF__n_estimators': list(range(50,200,5)),\n",
    "         'RF__max_depth': [10, 20, 30]}]\n",
    "gridsearchRF = GridSearchCV(pipeRF, param_grid = gridRF, scoring = 'accuracy', cv = 3, n_jobs = -1)\n",
    "gridsearchRF.fit(X_train,y_train)"
   ]
  },
  {
   "cell_type": "code",
   "execution_count": 42,
   "metadata": {
    "scrolled": false
   },
   "outputs": [
    {
     "data": {
      "text/html": [
       "<div>\n",
       "<style scoped>\n",
       "    .dataframe tbody tr th:only-of-type {\n",
       "        vertical-align: middle;\n",
       "    }\n",
       "\n",
       "    .dataframe tbody tr th {\n",
       "        vertical-align: top;\n",
       "    }\n",
       "\n",
       "    .dataframe thead th {\n",
       "        text-align: right;\n",
       "    }\n",
       "</style>\n",
       "<table border=\"1\" class=\"dataframe\">\n",
       "  <thead>\n",
       "    <tr style=\"text-align: right;\">\n",
       "      <th></th>\n",
       "      <th>mean_fit_time</th>\n",
       "      <th>std_fit_time</th>\n",
       "      <th>mean_score_time</th>\n",
       "      <th>std_score_time</th>\n",
       "      <th>param_RF__max_depth</th>\n",
       "      <th>param_RF__n_estimators</th>\n",
       "      <th>params</th>\n",
       "      <th>split0_test_score</th>\n",
       "      <th>split1_test_score</th>\n",
       "      <th>split2_test_score</th>\n",
       "      <th>mean_test_score</th>\n",
       "      <th>std_test_score</th>\n",
       "      <th>rank_test_score</th>\n",
       "    </tr>\n",
       "  </thead>\n",
       "  <tbody>\n",
       "    <tr>\n",
       "      <th>0</th>\n",
       "      <td>3.186381</td>\n",
       "      <td>0.037598</td>\n",
       "      <td>0.110769</td>\n",
       "      <td>0.026563</td>\n",
       "      <td>10</td>\n",
       "      <td>50</td>\n",
       "      <td>{'RF__max_depth': 10, 'RF__n_estimators': 50}</td>\n",
       "      <td>0.708990</td>\n",
       "      <td>0.724915</td>\n",
       "      <td>0.724163</td>\n",
       "      <td>0.719354</td>\n",
       "      <td>0.007338</td>\n",
       "      <td>80</td>\n",
       "    </tr>\n",
       "    <tr>\n",
       "      <th>1</th>\n",
       "      <td>3.329637</td>\n",
       "      <td>0.139097</td>\n",
       "      <td>0.082789</td>\n",
       "      <td>0.006395</td>\n",
       "      <td>10</td>\n",
       "      <td>55</td>\n",
       "      <td>{'RF__max_depth': 10, 'RF__n_estimators': 55}</td>\n",
       "      <td>0.713351</td>\n",
       "      <td>0.719825</td>\n",
       "      <td>0.726346</td>\n",
       "      <td>0.719838</td>\n",
       "      <td>0.005305</td>\n",
       "      <td>78</td>\n",
       "    </tr>\n",
       "    <tr>\n",
       "      <th>2</th>\n",
       "      <td>3.561196</td>\n",
       "      <td>0.097932</td>\n",
       "      <td>0.090614</td>\n",
       "      <td>0.003202</td>\n",
       "      <td>10</td>\n",
       "      <td>60</td>\n",
       "      <td>{'RF__max_depth': 10, 'RF__n_estimators': 60}</td>\n",
       "      <td>0.714805</td>\n",
       "      <td>0.722976</td>\n",
       "      <td>0.722222</td>\n",
       "      <td>0.720000</td>\n",
       "      <td>0.003688</td>\n",
       "      <td>74</td>\n",
       "    </tr>\n",
       "    <tr>\n",
       "      <th>3</th>\n",
       "      <td>4.010574</td>\n",
       "      <td>0.092682</td>\n",
       "      <td>0.134004</td>\n",
       "      <td>0.034937</td>\n",
       "      <td>10</td>\n",
       "      <td>65</td>\n",
       "      <td>{'RF__max_depth': 10, 'RF__n_estimators': 65}</td>\n",
       "      <td>0.711413</td>\n",
       "      <td>0.719825</td>\n",
       "      <td>0.723920</td>\n",
       "      <td>0.718384</td>\n",
       "      <td>0.005207</td>\n",
       "      <td>89</td>\n",
       "    </tr>\n",
       "    <tr>\n",
       "      <th>4</th>\n",
       "      <td>6.114519</td>\n",
       "      <td>0.030537</td>\n",
       "      <td>0.107201</td>\n",
       "      <td>0.007737</td>\n",
       "      <td>10</td>\n",
       "      <td>70</td>\n",
       "      <td>{'RF__max_depth': 10, 'RF__n_estimators': 70}</td>\n",
       "      <td>0.714078</td>\n",
       "      <td>0.721037</td>\n",
       "      <td>0.721737</td>\n",
       "      <td>0.718949</td>\n",
       "      <td>0.003458</td>\n",
       "      <td>86</td>\n",
       "    </tr>\n",
       "    <tr>\n",
       "      <th>...</th>\n",
       "      <td>...</td>\n",
       "      <td>...</td>\n",
       "      <td>...</td>\n",
       "      <td>...</td>\n",
       "      <td>...</td>\n",
       "      <td>...</td>\n",
       "      <td>...</td>\n",
       "      <td>...</td>\n",
       "      <td>...</td>\n",
       "      <td>...</td>\n",
       "      <td>...</td>\n",
       "      <td>...</td>\n",
       "      <td>...</td>\n",
       "    </tr>\n",
       "    <tr>\n",
       "      <th>85</th>\n",
       "      <td>12.259170</td>\n",
       "      <td>0.072074</td>\n",
       "      <td>0.273868</td>\n",
       "      <td>0.013771</td>\n",
       "      <td>30</td>\n",
       "      <td>175</td>\n",
       "      <td>{'RF__max_depth': 30, 'RF__n_estimators': 175}</td>\n",
       "      <td>0.738793</td>\n",
       "      <td>0.732429</td>\n",
       "      <td>0.737021</td>\n",
       "      <td>0.736081</td>\n",
       "      <td>0.002682</td>\n",
       "      <td>16</td>\n",
       "    </tr>\n",
       "    <tr>\n",
       "      <th>86</th>\n",
       "      <td>13.204468</td>\n",
       "      <td>0.374795</td>\n",
       "      <td>0.344318</td>\n",
       "      <td>0.097867</td>\n",
       "      <td>30</td>\n",
       "      <td>180</td>\n",
       "      <td>{'RF__max_depth': 30, 'RF__n_estimators': 180}</td>\n",
       "      <td>0.732493</td>\n",
       "      <td>0.738245</td>\n",
       "      <td>0.739932</td>\n",
       "      <td>0.736889</td>\n",
       "      <td>0.003185</td>\n",
       "      <td>6</td>\n",
       "    </tr>\n",
       "    <tr>\n",
       "      <th>87</th>\n",
       "      <td>15.616913</td>\n",
       "      <td>1.170851</td>\n",
       "      <td>0.299817</td>\n",
       "      <td>0.020048</td>\n",
       "      <td>30</td>\n",
       "      <td>185</td>\n",
       "      <td>{'RF__max_depth': 30, 'RF__n_estimators': 185}</td>\n",
       "      <td>0.734674</td>\n",
       "      <td>0.737518</td>\n",
       "      <td>0.731684</td>\n",
       "      <td>0.734626</td>\n",
       "      <td>0.002382</td>\n",
       "      <td>29</td>\n",
       "    </tr>\n",
       "    <tr>\n",
       "      <th>88</th>\n",
       "      <td>15.322582</td>\n",
       "      <td>1.352025</td>\n",
       "      <td>0.312087</td>\n",
       "      <td>0.010917</td>\n",
       "      <td>30</td>\n",
       "      <td>190</td>\n",
       "      <td>{'RF__max_depth': 30, 'RF__n_estimators': 190}</td>\n",
       "      <td>0.737339</td>\n",
       "      <td>0.733398</td>\n",
       "      <td>0.739689</td>\n",
       "      <td>0.736808</td>\n",
       "      <td>0.002596</td>\n",
       "      <td>8</td>\n",
       "    </tr>\n",
       "    <tr>\n",
       "      <th>89</th>\n",
       "      <td>12.446584</td>\n",
       "      <td>0.626419</td>\n",
       "      <td>0.276648</td>\n",
       "      <td>0.025754</td>\n",
       "      <td>30</td>\n",
       "      <td>195</td>\n",
       "      <td>{'RF__max_depth': 30, 'RF__n_estimators': 195}</td>\n",
       "      <td>0.732251</td>\n",
       "      <td>0.732671</td>\n",
       "      <td>0.733624</td>\n",
       "      <td>0.732848</td>\n",
       "      <td>0.000575</td>\n",
       "      <td>50</td>\n",
       "    </tr>\n",
       "  </tbody>\n",
       "</table>\n",
       "<p>90 rows × 13 columns</p>\n",
       "</div>"
      ],
      "text/plain": [
       "    mean_fit_time  std_fit_time  mean_score_time  std_score_time  \\\n",
       "0        3.186381      0.037598         0.110769        0.026563   \n",
       "1        3.329637      0.139097         0.082789        0.006395   \n",
       "2        3.561196      0.097932         0.090614        0.003202   \n",
       "3        4.010574      0.092682         0.134004        0.034937   \n",
       "4        6.114519      0.030537         0.107201        0.007737   \n",
       "..            ...           ...              ...             ...   \n",
       "85      12.259170      0.072074         0.273868        0.013771   \n",
       "86      13.204468      0.374795         0.344318        0.097867   \n",
       "87      15.616913      1.170851         0.299817        0.020048   \n",
       "88      15.322582      1.352025         0.312087        0.010917   \n",
       "89      12.446584      0.626419         0.276648        0.025754   \n",
       "\n",
       "   param_RF__max_depth param_RF__n_estimators  \\\n",
       "0                   10                     50   \n",
       "1                   10                     55   \n",
       "2                   10                     60   \n",
       "3                   10                     65   \n",
       "4                   10                     70   \n",
       "..                 ...                    ...   \n",
       "85                  30                    175   \n",
       "86                  30                    180   \n",
       "87                  30                    185   \n",
       "88                  30                    190   \n",
       "89                  30                    195   \n",
       "\n",
       "                                            params  split0_test_score  \\\n",
       "0    {'RF__max_depth': 10, 'RF__n_estimators': 50}           0.708990   \n",
       "1    {'RF__max_depth': 10, 'RF__n_estimators': 55}           0.713351   \n",
       "2    {'RF__max_depth': 10, 'RF__n_estimators': 60}           0.714805   \n",
       "3    {'RF__max_depth': 10, 'RF__n_estimators': 65}           0.711413   \n",
       "4    {'RF__max_depth': 10, 'RF__n_estimators': 70}           0.714078   \n",
       "..                                             ...                ...   \n",
       "85  {'RF__max_depth': 30, 'RF__n_estimators': 175}           0.738793   \n",
       "86  {'RF__max_depth': 30, 'RF__n_estimators': 180}           0.732493   \n",
       "87  {'RF__max_depth': 30, 'RF__n_estimators': 185}           0.734674   \n",
       "88  {'RF__max_depth': 30, 'RF__n_estimators': 190}           0.737339   \n",
       "89  {'RF__max_depth': 30, 'RF__n_estimators': 195}           0.732251   \n",
       "\n",
       "    split1_test_score  split2_test_score  mean_test_score  std_test_score  \\\n",
       "0            0.724915           0.724163         0.719354        0.007338   \n",
       "1            0.719825           0.726346         0.719838        0.005305   \n",
       "2            0.722976           0.722222         0.720000        0.003688   \n",
       "3            0.719825           0.723920         0.718384        0.005207   \n",
       "4            0.721037           0.721737         0.718949        0.003458   \n",
       "..                ...                ...              ...             ...   \n",
       "85           0.732429           0.737021         0.736081        0.002682   \n",
       "86           0.738245           0.739932         0.736889        0.003185   \n",
       "87           0.737518           0.731684         0.734626        0.002382   \n",
       "88           0.733398           0.739689         0.736808        0.002596   \n",
       "89           0.732671           0.733624         0.732848        0.000575   \n",
       "\n",
       "    rank_test_score  \n",
       "0                80  \n",
       "1                78  \n",
       "2                74  \n",
       "3                89  \n",
       "4                86  \n",
       "..              ...  \n",
       "85               16  \n",
       "86                6  \n",
       "87               29  \n",
       "88                8  \n",
       "89               50  \n",
       "\n",
       "[90 rows x 13 columns]"
      ]
     },
     "execution_count": 42,
     "metadata": {},
     "output_type": "execute_result"
    }
   ],
   "source": [
    "# Your code here\n",
    "pd.DataFrame(gridsearchRF.cv_results_)"
   ]
  },
  {
   "cell_type": "code",
   "execution_count": 43,
   "metadata": {},
   "outputs": [
    {
     "data": {
      "text/plain": [
       "0.7528634628204351"
      ]
     },
     "execution_count": 43,
     "metadata": {},
     "output_type": "execute_result"
    }
   ],
   "source": [
    "gridsearchRF.best_estimator_.score(X_test, y_test)"
   ]
  },
  {
   "cell_type": "markdown",
   "metadata": {},
   "source": [
    "## Adaboost"
   ]
  },
  {
   "cell_type": "code",
   "execution_count": null,
   "metadata": {},
   "outputs": [],
   "source": [
    "# Your code here"
   ]
  },
  {
   "cell_type": "markdown",
   "metadata": {},
   "source": [
    "## Note\n",
    "\n",
    "Note that this solution is only one of many options. The results in the Random Forest and Adaboost models show that there is a lot of improvement possible tuning the hyperparameters further, so make sure to explore this yourself!"
   ]
  },
  {
   "cell_type": "markdown",
   "metadata": {},
   "source": [
    "## Summary \n",
    "\n",
    "Great! You now got a lot of practice in. What algorithm would you choose and why?"
   ]
  }
 ],
 "metadata": {
  "kernelspec": {
   "display_name": "Python 3",
   "language": "python",
   "name": "python3"
  },
  "language_info": {
   "codemirror_mode": {
    "name": "ipython",
    "version": 3
   },
   "file_extension": ".py",
   "mimetype": "text/x-python",
   "name": "python",
   "nbconvert_exporter": "python",
   "pygments_lexer": "ipython3",
   "version": "3.7.5"
  }
 },
 "nbformat": 4,
 "nbformat_minor": 2
}
